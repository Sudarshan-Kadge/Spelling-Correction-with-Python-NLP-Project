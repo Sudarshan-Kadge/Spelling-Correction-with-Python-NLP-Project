{
 "cells": [
  {
   "cell_type": "markdown",
   "metadata": {},
   "source": [
    "## In this project we are going to correct spelling using TextBlob\n",
    "\n",
    "TextBlob is a Python library for processing text data. It provides a simple API for delving into common natural language processing tasks such as tagging part of speech, extracting nominal sentences, analyzing feelings, classifying, translating, and more.\n",
    "\n",
    "\n",
    "It provides some very useful features for Machine Learning projects like:\n",
    "\n",
    "Noun phrase extraction\n",
    "Part-of-speech tagging\n",
    "Sentiment analysis\n",
    "Classification\n",
    "Tokenization\n",
    "Word and phrase frequencies\n",
    "Parsing\n",
    "n-grams\n",
    "Word inflexion and lemmatization\n",
    "Spelling correction\n",
    "Add new models or languages through extensions\n",
    "WordNet integration\n",
    "\n",
    "\n",
    "You can simply install the TextBlob library in your systems by writing a pip command; pip install textblob."
   ]
  },
  {
   "cell_type": "code",
   "execution_count": 1,
   "metadata": {},
   "outputs": [
    {
     "name": "stdout",
     "output_type": "stream",
     "text": [
      "Requirement already satisfied: textblob in c:\\users\\sudarshan kadge\\anaconda3\\lib\\site-packages (0.15.3)\n",
      "Requirement already satisfied: nltk>=3.1 in c:\\users\\sudarshan kadge\\anaconda3\\lib\\site-packages (from textblob) (3.5)\n",
      "Requirement already satisfied: tqdm in c:\\users\\sudarshan kadge\\anaconda3\\lib\\site-packages (from nltk>=3.1->textblob) (4.50.2)\n",
      "Requirement already satisfied: joblib in c:\\users\\sudarshan kadge\\anaconda3\\lib\\site-packages (from nltk>=3.1->textblob) (0.17.0)\n",
      "Requirement already satisfied: click in c:\\users\\sudarshan kadge\\anaconda3\\lib\\site-packages (from nltk>=3.1->textblob) (7.1.2)\n",
      "Requirement already satisfied: regex in c:\\users\\sudarshan kadge\\anaconda3\\lib\\site-packages (from nltk>=3.1->textblob) (2020.10.15)\n"
     ]
    }
   ],
   "source": [
    "!pip install textblob"
   ]
  },
  {
   "cell_type": "code",
   "execution_count": 2,
   "metadata": {},
   "outputs": [
    {
     "name": "stdout",
     "output_type": "stream",
     "text": [
      "wrong words: ['Machne', 'Learnin', 'Happi', 'spellin']\n",
      "corrected_words are:\n",
      "Machine Learning Happy spelling "
     ]
    }
   ],
   "source": [
    "from textblob import TextBlob\n",
    "words = [\"Machne\", \"Learnin\", \"Happi\", \"spellin\"]\n",
    "\n",
    "corrected_words = []\n",
    "for i in words:\n",
    "    corrected_words.append(TextBlob(i))\n",
    "print(\"wrong words:\", words)\n",
    "print(\"corrected_words are:\")\n",
    "for i in corrected_words:\n",
    "    print(i.correct(), end=\" \")"
   ]
  },
  {
   "cell_type": "code",
   "execution_count": null,
   "metadata": {},
   "outputs": [],
   "source": []
  }
 ],
 "metadata": {
  "kernelspec": {
   "display_name": "Python 3",
   "language": "python",
   "name": "python3"
  },
  "language_info": {
   "codemirror_mode": {
    "name": "ipython",
    "version": 3
   },
   "file_extension": ".py",
   "mimetype": "text/x-python",
   "name": "python",
   "nbconvert_exporter": "python",
   "pygments_lexer": "ipython3",
   "version": "3.8.5"
  }
 },
 "nbformat": 4,
 "nbformat_minor": 4
}
